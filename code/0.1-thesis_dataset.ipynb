{
 "cells": [
  {
   "cell_type": "code",
   "execution_count": 1,
   "id": "bcee623c",
   "metadata": {},
   "outputs": [],
   "source": [
    "import pandas as pd\n",
    "import numpy as np\n",
    "import matplotlib.pyplot as plt\n",
    "import seaborn as sns"
   ]
  },
  {
   "cell_type": "markdown",
   "id": "7867afc1",
   "metadata": {},
   "source": [
    "# Dataset \n",
    "\n",
    "Main dataset used for analysis\n",
    "\n",
    "\n",
    "#### Data Dictionary for `dps-thesis-dataset.csv`\n",
    "\n",
    "One row per participant\n",
    "\n",
    "| Column Name       | Description                                                                 |\n",
    "|--------------------|-----------------------------------------------------------------------------|\n",
    "| participant_number | The unique identifier of each participant. |\n",
    "| survey_done        | Whether the participant completed the survey. Either \"Yes\" or \"No\". |\n",
    "| chatbot_done       | Whether the participant engaged with the chatbot. Either \"Yes\" or \"No\". |\n",
    "| chatbot_group      | The AI group the participant was assigned to. Either \"Control\" or \"Treatment\". |\n",
    "| first_year         | From the survey: Is the participant a first-year student. Either \"Yes\" or \"No\". |\n",
    "| gender             | From the survey: The gender of the participant. |\n",
    "| first_prog_course  | From the survey: Is this the participant's first programming course. Either \"Yes\" or \"No\". |\n",
    "| C1 | The Participant's score on the first computational diagnostic (max=28) |\n",
    "| C2 | The Participant's score on the second computational diagnostic (max=28) |\n",
    "| E1 | The Participant's score on the Midterm Exam (max=45) |\n",
    "| Difference_C2_C1 | The difference between the second and first computational diagnostic (C2 - C1) |\n",
    "| inconclusive_session_count | Count of Chat sessions labeled as inconclusive. |\n",
    "| task_completion_session_count | Count of Chat sessions labeled as \"Task Completion\". |\n",
    "| learning_session_count | Count of AI sessions labeled as \"Learning\". |\n",
    "| total_session_count      | The total number of AI sessions. |\n",
    "| total_interaction_count  | The total number of interactions. An interaction is defined as the number of user prompts in a \n",
    "\n",
    "\n"
   ]
  },
  {
   "cell_type": "code",
   "execution_count": 2,
   "id": "e497492c",
   "metadata": {},
   "outputs": [
    {
     "name": "stdout",
     "output_type": "stream",
     "text": [
      "<class 'pandas.core.frame.DataFrame'>\n",
      "RangeIndex: 87 entries, 0 to 86\n",
      "Data columns (total 22 columns):\n",
      " #   Column                              Non-Null Count  Dtype  \n",
      "---  ------                              --------------  -----  \n",
      " 0   participant_number                  87 non-null     int64  \n",
      " 1   survey_done                         87 non-null     object \n",
      " 2   chatbot_done                        87 non-null     object \n",
      " 3   chatbot_group                       87 non-null     object \n",
      " 4   first_year                          78 non-null     object \n",
      " 5   gender                              78 non-null     object \n",
      " 6   year_in_school_simplified           78 non-null     object \n",
      " 7   first_prog_course                   78 non-null     object \n",
      " 8   C1                                  87 non-null     float64\n",
      " 9   C2                                  87 non-null     float64\n",
      " 10  E1                                  87 non-null     int64  \n",
      " 11  Difference_C2_C1                    87 non-null     float64\n",
      " 12  inconclusive_session_count          87 non-null     int64  \n",
      " 13  learning_session_count              87 non-null     int64  \n",
      " 14  task_completion_session_count       87 non-null     int64  \n",
      " 15  total_session_count                 87 non-null     int64  \n",
      " 16  total_interaction_count             87 non-null     int64  \n",
      " 17  interaction_to_session_ratio        87 non-null     float64\n",
      " 18  control_treatment_asnumber          87 non-null     int64  \n",
      " 19  first_prog_course_asnumber          78 non-null     float64\n",
      " 20  gender_asnumber                     78 non-null     float64\n",
      " 21  year_in_school_simplified_asnumber  78 non-null     float64\n",
      "dtypes: float64(7), int64(8), object(7)\n",
      "memory usage: 15.1+ KB\n"
     ]
    }
   ],
   "source": [
    "import pandas as pd\n",
    "df = pd.read_csv('../datasets/dps-thesis-dataset.csv')\n",
    "df.info()"
   ]
  },
  {
   "cell_type": "code",
   "execution_count": null,
   "id": "bfa7bf9e",
   "metadata": {},
   "outputs": [],
   "source": []
  },
  {
   "cell_type": "code",
   "execution_count": null,
   "id": "5e7dea2a",
   "metadata": {},
   "outputs": [],
   "source": []
  }
 ],
 "metadata": {
  "kernelspec": {
   "display_name": "Python 3",
   "language": "python",
   "name": "python3"
  },
  "language_info": {
   "codemirror_mode": {
    "name": "ipython",
    "version": 3
   },
   "file_extension": ".py",
   "mimetype": "text/x-python",
   "name": "python",
   "nbconvert_exporter": "python",
   "pygments_lexer": "ipython3",
   "version": "3.12.10"
  }
 },
 "nbformat": 4,
 "nbformat_minor": 5
}
